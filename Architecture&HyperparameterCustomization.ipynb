{
  "nbformat": 4,
  "nbformat_minor": 0,
  "metadata": {
    "colab": {
      "provenance": [],
      "authorship_tag": "ABX9TyMR9tuZFZPmMnWLVuXtsZeg",
      "include_colab_link": true
    },
    "kernelspec": {
      "name": "python3",
      "display_name": "Python 3"
    },
    "language_info": {
      "name": "python"
    }
  },
  "cells": [
    {
      "cell_type": "markdown",
      "metadata": {
        "id": "view-in-github",
        "colab_type": "text"
      },
      "source": [
        "<a href=\"https://colab.research.google.com/github/sunnylistax25/ArchitectureAndHyperparameterCustomization/blob/main/Architecture%26HyperparameterCustomization.ipynb\" target=\"_parent\"><img src=\"https://colab.research.google.com/assets/colab-badge.svg\" alt=\"Open In Colab\"/></a>"
      ]
    },
    {
      "cell_type": "code",
      "execution_count": 1,
      "metadata": {
        "colab": {
          "base_uri": "https://localhost:8080/"
        },
        "id": "tArg4RlukuMe",
        "outputId": "d9ad1836-5b6a-4334-8775-276e440f07d0"
      },
      "outputs": [
        {
          "output_type": "stream",
          "name": "stdout",
          "text": [
            "--2023-01-27 01:39:18--  https://raw.githubusercontent.com/MicrosoftDocs/mslearn-introduction-to-machine-learning/main/graphing.py\n",
            "Resolving raw.githubusercontent.com (raw.githubusercontent.com)... 185.199.108.133, 185.199.109.133, 185.199.110.133, ...\n",
            "Connecting to raw.githubusercontent.com (raw.githubusercontent.com)|185.199.108.133|:443... connected.\n",
            "HTTP request sent, awaiting response... 200 OK\n",
            "Length: 21511 (21K) [text/plain]\n",
            "Saving to: ‘graphing.py’\n",
            "\n",
            "\rgraphing.py           0%[                    ]       0  --.-KB/s               \rgraphing.py         100%[===================>]  21.01K  --.-KB/s    in 0s      \n",
            "\n",
            "2023-01-27 01:39:18 (58.1 MB/s) - ‘graphing.py’ saved [21511/21511]\n",
            "\n",
            "--2023-01-27 01:39:18--  https://raw.githubusercontent.com/MicrosoftDocs/mslearn-introduction-to-machine-learning/main/Data/san_fran_crime.csv\n",
            "Resolving raw.githubusercontent.com (raw.githubusercontent.com)... 185.199.108.133, 185.199.109.133, 185.199.110.133, ...\n",
            "Connecting to raw.githubusercontent.com (raw.githubusercontent.com)|185.199.108.133|:443... connected.\n",
            "HTTP request sent, awaiting response... 200 OK\n",
            "Length: 11715606 (11M) [text/plain]\n",
            "Saving to: ‘san_fran_crime.csv’\n",
            "\n",
            "san_fran_crime.csv  100%[===================>]  11.17M  65.8MB/s    in 0.2s    \n",
            "\n",
            "2023-01-27 01:39:19 (65.8 MB/s) - ‘san_fran_crime.csv’ saved [11715606/11715606]\n",
            "\n",
            "       Category  DayOfWeek  PdDistrict  Resolution           X          Y  \\\n",
            "0   WEAPON LAWS          5    SOUTHERN        True -122.403405  37.775421   \n",
            "1   WEAPON LAWS          5    SOUTHERN        True -122.403405  37.775421   \n",
            "2      WARRANTS          1     BAYVIEW        True -122.388856  37.729981   \n",
            "3  NON-CRIMINAL          2  TENDERLOIN       False -122.412971  37.785788   \n",
            "4  NON-CRIMINAL          5     MISSION       False -122.419672  37.765050   \n",
            "\n",
            "   day_of_year  time_in_hours  \n",
            "0           29      11.000000  \n",
            "1           29      11.000000  \n",
            "2          116      14.983333  \n",
            "3            5      23.833333  \n",
            "4            1       0.500000  \n",
            "(150431, 8)\n"
          ]
        }
      ],
      "source": [
        "#Decision Tree and Model Architecture\n",
        "import pandas\n",
        "!wget https://raw.githubusercontent.com/MicrosoftDocs/mslearn-introduction-to-machine-learning/main/graphing.py\n",
        "!wget https://raw.githubusercontent.com/MicrosoftDocs/mslearn-introduction-to-machine-learning/main/Data/san_fran_crime.csv\n",
        "\n",
        "#Import the data from the .csv file\n",
        "dataset = pandas.read_csv('san_fran_crime.csv', delimiter=\"\\t\")\n",
        "\n",
        "#Let's have a look at the data and the relationship we are going to model\n",
        "print(dataset.head())\n",
        "print(dataset.shape)"
      ]
    },
    {
      "cell_type": "code",
      "source": [],
      "metadata": {
        "id": "fDsc51iD4Kst"
      },
      "execution_count": null,
      "outputs": []
    }
  ]
}